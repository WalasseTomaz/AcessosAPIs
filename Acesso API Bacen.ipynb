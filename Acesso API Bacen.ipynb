{
 "cells": [
  {
   "cell_type": "markdown",
   "id": "5ff65c41",
   "metadata": {
    "id": "C2dAFAhvOB25",
    "papermill": {
     "duration": 0.003693,
     "end_time": "2023-10-17T12:22:40.832700",
     "exception": false,
     "start_time": "2023-10-17T12:22:40.829007",
     "status": "completed"
    },
    "tags": []
   },
   "source": [
    "# Notebook acesso a API Bacen Data com Python.\n",
    "\n",
    "*Referência:* https://analisemacro.com.br/economia/indicadores/coletando-dados-do-banco-central-com-python/"
   ]
  },
  {
   "cell_type": "code",
   "execution_count": 1,
   "id": "2aa714f2",
   "metadata": {
    "execution": {
     "iopub.execute_input": "2023-10-17T12:22:40.843113Z",
     "iopub.status.busy": "2023-10-17T12:22:40.842546Z",
     "iopub.status.idle": "2023-10-17T12:22:52.385353Z",
     "shell.execute_reply": "2023-10-17T12:22:52.383862Z"
    },
    "executionInfo": {
     "elapsed": 17352,
     "status": "ok",
     "timestamp": 1697136654305,
     "user": {
      "displayName": "Acadêmico Econômico",
      "userId": "10997258971819983292"
     },
     "user_tz": 180
    },
    "id": "8TcURpfzNrK-",
    "outputId": "1e34f8d5-725b-4c94-d9c6-3868e118bdd4",
    "papermill": {
     "duration": 11.550319,
     "end_time": "2023-10-17T12:22:52.388036",
     "exception": false,
     "start_time": "2023-10-17T12:22:40.837717",
     "status": "completed"
    },
    "tags": []
   },
   "outputs": [],
   "source": [
    "# Baixando a biblioteca de integração com a API Ipea Data.\n",
    "!pip install python-bcb --quiet"
   ]
  },
  {
   "cell_type": "code",
   "execution_count": 2,
   "id": "9e9e772d",
   "metadata": {
    "execution": {
     "iopub.execute_input": "2023-10-17T12:22:52.396906Z",
     "iopub.status.busy": "2023-10-17T12:22:52.396535Z",
     "iopub.status.idle": "2023-10-17T12:22:53.462252Z",
     "shell.execute_reply": "2023-10-17T12:22:53.461567Z"
    },
    "executionInfo": {
     "elapsed": 751,
     "status": "ok",
     "timestamp": 1697136655053,
     "user": {
      "displayName": "Acadêmico Econômico",
      "userId": "10997258971819983292"
     },
     "user_tz": 180
    },
    "id": "qHhKiVKpONjo",
    "papermill": {
     "duration": 1.072583,
     "end_time": "2023-10-17T12:22:53.464392",
     "exception": false,
     "start_time": "2023-10-17T12:22:52.391809",
     "status": "completed"
    },
    "tags": []
   },
   "outputs": [],
   "source": [
    "# Instalando as bibliotecas necessárias.\n",
    "from bcb import sgs\n",
    "import pandas as pd\n",
    "import matplotlib.pyplot as plt"
   ]
  },
  {
   "cell_type": "code",
   "execution_count": 3,
   "id": "602cc4da",
   "metadata": {
    "execution": {
     "iopub.execute_input": "2023-10-17T12:22:53.473475Z",
     "iopub.status.busy": "2023-10-17T12:22:53.472362Z",
     "iopub.status.idle": "2023-10-17T12:22:53.476720Z",
     "shell.execute_reply": "2023-10-17T12:22:53.476058Z"
    },
    "executionInfo": {
     "elapsed": 5,
     "status": "ok",
     "timestamp": 1697136703089,
     "user": {
      "displayName": "Acadêmico Econômico",
      "userId": "10997258971819983292"
     },
     "user_tz": 180
    },
    "id": "g9_Zq6qUOtbK",
    "papermill": {
     "duration": 0.010374,
     "end_time": "2023-10-17T12:22:53.478362",
     "exception": false,
     "start_time": "2023-10-17T12:22:53.467988",
     "status": "completed"
    },
    "tags": []
   },
   "outputs": [],
   "source": [
    "# Definindo Máximo do Linhas e Colunas\n",
    "pd.options.display.max_rows = 1000\n",
    "pd.options.display.max_columns = 1000"
   ]
  },
  {
   "cell_type": "code",
   "execution_count": 4,
   "id": "d68a4b8c",
   "metadata": {
    "execution": {
     "iopub.execute_input": "2023-10-17T12:22:53.486571Z",
     "iopub.status.busy": "2023-10-17T12:22:53.486114Z",
     "iopub.status.idle": "2023-10-17T12:22:53.489527Z",
     "shell.execute_reply": "2023-10-17T12:22:53.488827Z"
    },
    "executionInfo": {
     "elapsed": 4,
     "status": "ok",
     "timestamp": 1697136703758,
     "user": {
      "displayName": "Acadêmico Econômico",
      "userId": "10997258971819983292"
     },
     "user_tz": 180
    },
    "id": "9FpDUX9aOuh6",
    "papermill": {
     "duration": 0.009425,
     "end_time": "2023-10-17T12:22:53.491257",
     "exception": false,
     "start_time": "2023-10-17T12:22:53.481832",
     "status": "completed"
    },
    "tags": []
   },
   "outputs": [],
   "source": [
    "# Removendo Warnings.\n",
    "import warnings\n",
    "warnings.filterwarnings(\"ignore\")"
   ]
  },
  {
   "cell_type": "markdown",
   "id": "7e8f7fff",
   "metadata": {
    "id": "tTWNhGpYPDJH",
    "papermill": {
     "duration": 0.003122,
     "end_time": "2023-10-17T12:22:53.497644",
     "exception": false,
     "start_time": "2023-10-17T12:22:53.494522",
     "status": "completed"
    },
    "tags": []
   },
   "source": [
    "## Busca a série da SELIC no SGS"
   ]
  },
  {
   "cell_type": "code",
   "execution_count": 5,
   "id": "1a0133ed",
   "metadata": {
    "execution": {
     "iopub.execute_input": "2023-10-17T12:22:53.505565Z",
     "iopub.status.busy": "2023-10-17T12:22:53.505256Z",
     "iopub.status.idle": "2023-10-17T12:22:59.369468Z",
     "shell.execute_reply": "2023-10-17T12:22:59.368659Z"
    },
    "executionInfo": {
     "elapsed": 3658,
     "status": "ok",
     "timestamp": 1697136822781,
     "user": {
      "displayName": "Acadêmico Econômico",
      "userId": "10997258971819983292"
     },
     "user_tz": 180
    },
    "id": "QuehsyPAOv0Z",
    "papermill": {
     "duration": 5.870854,
     "end_time": "2023-10-17T12:22:59.371743",
     "exception": false,
     "start_time": "2023-10-17T12:22:53.500889",
     "status": "completed"
    },
    "tags": []
   },
   "outputs": [],
   "source": [
    "# Busca a série da SELIC no SGS\n",
    "selic = sgs.get({'selic':432}, start = '1900-01-01')"
   ]
  },
  {
   "cell_type": "code",
   "execution_count": 6,
   "id": "c023e339",
   "metadata": {
    "execution": {
     "iopub.execute_input": "2023-10-17T12:22:59.379911Z",
     "iopub.status.busy": "2023-10-17T12:22:59.379601Z",
     "iopub.status.idle": "2023-10-17T12:22:59.392896Z",
     "shell.execute_reply": "2023-10-17T12:22:59.391868Z"
    },
    "executionInfo": {
     "elapsed": 10,
     "status": "ok",
     "timestamp": 1697136850680,
     "user": {
      "displayName": "Acadêmico Econômico",
      "userId": "10997258971819983292"
     },
     "user_tz": 180
    },
    "id": "yoWUX1nsPM7J",
    "outputId": "4cde430d-f5f0-479f-d0b9-814fb3a39e17",
    "papermill": {
     "duration": 0.019439,
     "end_time": "2023-10-17T12:22:59.394682",
     "exception": false,
     "start_time": "2023-10-17T12:22:59.375243",
     "status": "completed"
    },
    "tags": []
   },
   "outputs": [
    {
     "data": {
      "text/html": [
       "<div>\n",
       "<style scoped>\n",
       "    .dataframe tbody tr th:only-of-type {\n",
       "        vertical-align: middle;\n",
       "    }\n",
       "\n",
       "    .dataframe tbody tr th {\n",
       "        vertical-align: top;\n",
       "    }\n",
       "\n",
       "    .dataframe thead th {\n",
       "        text-align: right;\n",
       "    }\n",
       "</style>\n",
       "<table border=\"1\" class=\"dataframe\">\n",
       "  <thead>\n",
       "    <tr style=\"text-align: right;\">\n",
       "      <th></th>\n",
       "      <th>selic</th>\n",
       "    </tr>\n",
       "    <tr>\n",
       "      <th>Date</th>\n",
       "      <th></th>\n",
       "    </tr>\n",
       "  </thead>\n",
       "  <tbody>\n",
       "    <tr>\n",
       "      <th>1999-03-05</th>\n",
       "      <td>45.0</td>\n",
       "    </tr>\n",
       "    <tr>\n",
       "      <th>1999-03-06</th>\n",
       "      <td>45.0</td>\n",
       "    </tr>\n",
       "    <tr>\n",
       "      <th>1999-03-07</th>\n",
       "      <td>45.0</td>\n",
       "    </tr>\n",
       "    <tr>\n",
       "      <th>1999-03-08</th>\n",
       "      <td>45.0</td>\n",
       "    </tr>\n",
       "    <tr>\n",
       "      <th>1999-03-09</th>\n",
       "      <td>45.0</td>\n",
       "    </tr>\n",
       "  </tbody>\n",
       "</table>\n",
       "</div>"
      ],
      "text/plain": [
       "            selic\n",
       "Date             \n",
       "1999-03-05   45.0\n",
       "1999-03-06   45.0\n",
       "1999-03-07   45.0\n",
       "1999-03-08   45.0\n",
       "1999-03-09   45.0"
      ]
     },
     "execution_count": 6,
     "metadata": {},
     "output_type": "execute_result"
    }
   ],
   "source": [
    "# Visualiza a série\n",
    "selic.head()"
   ]
  },
  {
   "cell_type": "code",
   "execution_count": 7,
   "id": "ee4bf563",
   "metadata": {
    "execution": {
     "iopub.execute_input": "2023-10-17T12:22:59.402909Z",
     "iopub.status.busy": "2023-10-17T12:22:59.402614Z",
     "iopub.status.idle": "2023-10-17T12:22:59.408624Z",
     "shell.execute_reply": "2023-10-17T12:22:59.407683Z"
    },
    "executionInfo": {
     "elapsed": 4,
     "status": "ok",
     "timestamp": 1697136948501,
     "user": {
      "displayName": "Acadêmico Econômico",
      "userId": "10997258971819983292"
     },
     "user_tz": 180
    },
    "id": "0iPcaskYPjDw",
    "outputId": "44fc852b-291f-4940-c107-5dad5fceaa7e",
    "papermill": {
     "duration": 0.012202,
     "end_time": "2023-10-17T12:22:59.410452",
     "exception": false,
     "start_time": "2023-10-17T12:22:59.398250",
     "status": "completed"
    },
    "tags": []
   },
   "outputs": [
    {
     "data": {
      "text/plain": [
       "(8993, 1)"
      ]
     },
     "execution_count": 7,
     "metadata": {},
     "output_type": "execute_result"
    }
   ],
   "source": [
    "# Verificando tamanho do data frame.\n",
    "selic.shape"
   ]
  },
  {
   "cell_type": "code",
   "execution_count": 8,
   "id": "a0a6e6f1",
   "metadata": {
    "execution": {
     "iopub.execute_input": "2023-10-17T12:22:59.418878Z",
     "iopub.status.busy": "2023-10-17T12:22:59.418594Z",
     "iopub.status.idle": "2023-10-17T12:22:59.435996Z",
     "shell.execute_reply": "2023-10-17T12:22:59.435008Z"
    },
    "executionInfo": {
     "elapsed": 5,
     "status": "ok",
     "timestamp": 1697136966567,
     "user": {
      "displayName": "Acadêmico Econômico",
      "userId": "10997258971819983292"
     },
     "user_tz": 180
    },
    "id": "zSJD7njHPrm3",
    "outputId": "cf6a654a-cb51-4fe9-aa0d-cb45e8b047de",
    "papermill": {
     "duration": 0.023778,
     "end_time": "2023-10-17T12:22:59.437971",
     "exception": false,
     "start_time": "2023-10-17T12:22:59.414193",
     "status": "completed"
    },
    "tags": []
   },
   "outputs": [
    {
     "name": "stdout",
     "output_type": "stream",
     "text": [
      "<class 'pandas.core.frame.DataFrame'>\n",
      "DatetimeIndex: 8993 entries, 1999-03-05 to 2023-10-17\n",
      "Data columns (total 1 columns):\n",
      " #   Column  Non-Null Count  Dtype  \n",
      "---  ------  --------------  -----  \n",
      " 0   selic   8993 non-null   float64\n",
      "dtypes: float64(1)\n",
      "memory usage: 140.5 KB\n"
     ]
    }
   ],
   "source": [
    "# Verificando qualidade das colunas.\n",
    "selic.info()"
   ]
  },
  {
   "cell_type": "code",
   "execution_count": 9,
   "id": "4c807b5d",
   "metadata": {
    "execution": {
     "iopub.execute_input": "2023-10-17T12:22:59.447219Z",
     "iopub.status.busy": "2023-10-17T12:22:59.446891Z",
     "iopub.status.idle": "2023-10-17T12:22:59.454216Z",
     "shell.execute_reply": "2023-10-17T12:22:59.453223Z"
    },
    "executionInfo": {
     "elapsed": 4,
     "status": "ok",
     "timestamp": 1697136976532,
     "user": {
      "displayName": "Acadêmico Econômico",
      "userId": "10997258971819983292"
     },
     "user_tz": 180
    },
    "id": "Zvzd_2x9Pv5V",
    "outputId": "a03bde20-3ca0-4d10-bd73-26298fc011ae",
    "papermill": {
     "duration": 0.014158,
     "end_time": "2023-10-17T12:22:59.456064",
     "exception": false,
     "start_time": "2023-10-17T12:22:59.441906",
     "status": "completed"
    },
    "tags": []
   },
   "outputs": [
    {
     "data": {
      "text/plain": [
       "0"
      ]
     },
     "execution_count": 9,
     "metadata": {},
     "output_type": "execute_result"
    }
   ],
   "source": [
    "# Verificando valores nulos das colunas.\n",
    "selic.isna().sum().sum()"
   ]
  },
  {
   "cell_type": "code",
   "execution_count": 10,
   "id": "6b4823d6",
   "metadata": {
    "execution": {
     "iopub.execute_input": "2023-10-17T12:22:59.465473Z",
     "iopub.status.busy": "2023-10-17T12:22:59.465147Z",
     "iopub.status.idle": "2023-10-17T12:22:59.483481Z",
     "shell.execute_reply": "2023-10-17T12:22:59.482397Z"
    },
    "executionInfo": {
     "elapsed": 10,
     "status": "ok",
     "timestamp": 1697136993809,
     "user": {
      "displayName": "Acadêmico Econômico",
      "userId": "10997258971819983292"
     },
     "user_tz": 180
    },
    "id": "aL33muNkPya8",
    "outputId": "194820b9-a3bb-4286-eae1-cbc2f94fa592",
    "papermill": {
     "duration": 0.025186,
     "end_time": "2023-10-17T12:22:59.485431",
     "exception": false,
     "start_time": "2023-10-17T12:22:59.460245",
     "status": "completed"
    },
    "tags": []
   },
   "outputs": [
    {
     "data": {
      "text/html": [
       "<div>\n",
       "<style scoped>\n",
       "    .dataframe tbody tr th:only-of-type {\n",
       "        vertical-align: middle;\n",
       "    }\n",
       "\n",
       "    .dataframe tbody tr th {\n",
       "        vertical-align: top;\n",
       "    }\n",
       "\n",
       "    .dataframe thead th {\n",
       "        text-align: right;\n",
       "    }\n",
       "</style>\n",
       "<table border=\"1\" class=\"dataframe\">\n",
       "  <thead>\n",
       "    <tr style=\"text-align: right;\">\n",
       "      <th></th>\n",
       "      <th>count</th>\n",
       "      <th>mean</th>\n",
       "      <th>std</th>\n",
       "      <th>min</th>\n",
       "      <th>25%</th>\n",
       "      <th>50%</th>\n",
       "      <th>75%</th>\n",
       "      <th>max</th>\n",
       "    </tr>\n",
       "  </thead>\n",
       "  <tbody>\n",
       "    <tr>\n",
       "      <th>selic</th>\n",
       "      <td>8993.0</td>\n",
       "      <td>12.761954</td>\n",
       "      <td>5.670184</td>\n",
       "      <td>2.0</td>\n",
       "      <td>8.75</td>\n",
       "      <td>12.5</td>\n",
       "      <td>16.25</td>\n",
       "      <td>45.0</td>\n",
       "    </tr>\n",
       "  </tbody>\n",
       "</table>\n",
       "</div>"
      ],
      "text/plain": [
       "        count       mean       std  min   25%   50%    75%   max\n",
       "selic  8993.0  12.761954  5.670184  2.0  8.75  12.5  16.25  45.0"
      ]
     },
     "execution_count": 10,
     "metadata": {},
     "output_type": "execute_result"
    }
   ],
   "source": [
    "# Medidas resumo.\n",
    "selic.describe().T"
   ]
  },
  {
   "cell_type": "code",
   "execution_count": 11,
   "id": "9c6d466c",
   "metadata": {
    "execution": {
     "iopub.execute_input": "2023-10-17T12:22:59.495360Z",
     "iopub.status.busy": "2023-10-17T12:22:59.494980Z",
     "iopub.status.idle": "2023-10-17T12:22:59.940200Z",
     "shell.execute_reply": "2023-10-17T12:22:59.939558Z"
    },
    "executionInfo": {
     "elapsed": 2384,
     "status": "ok",
     "timestamp": 1697137021161,
     "user": {
      "displayName": "Acadêmico Econômico",
      "userId": "10997258971819983292"
     },
     "user_tz": 180
    },
    "id": "pRyYEEO8P2vf",
    "outputId": "d047763d-9605-4c10-e0a7-5a0611d6c3f2",
    "papermill": {
     "duration": 0.452454,
     "end_time": "2023-10-17T12:22:59.942126",
     "exception": false,
     "start_time": "2023-10-17T12:22:59.489672",
     "status": "completed"
    },
    "tags": []
   },
   "outputs": [
    {
     "data": {
      "image/png": "[encoded data removed]",
      "text/plain": [
       "<Figure size 640x440 with 1 Axes>"
      ]
     },
     "metadata": {},
     "output_type": "display_data"
    }
   ],
   "source": [
    "# Visualização gráfica das séries.\n",
    "plt.style.use('seaborn-paper')\n",
    "selic.plot()\n",
    "plt.legend(loc='best')\n",
    "plt.title(\"Selic Tax\")\n",
    "plt.xlabel('Date')\n",
    "plt.ylabel('Selic Tax')\n",
    "plt.tight_layout()\n",
    "plt.show()"
   ]
  }
 ],
 "metadata": {
  "kernelspec": {
   "display_name": "Python 3",
   "language": "python",
   "name": "python3"
  },
  "language_info": {
   "codemirror_mode": {
    "name": "ipython",
    "version": 3
   },
   "file_extension": ".py",
   "mimetype": "text/x-python",
   "name": "python",
   "nbconvert_exporter": "python",
   "pygments_lexer": "ipython3",
   "version": "3.10.12"
  },
  "papermill": {
   "default_parameters": {},
   "duration": 23.551387,
   "end_time": "2023-10-17T12:23:00.466592",
   "environment_variables": {},
   "exception": null,
   "input_path": "__notebook__.ipynb",
   "output_path": "__notebook__.ipynb",
   "parameters": {},
   "start_time": "2023-10-17T12:22:36.915205",
   "version": "2.4.0"
  }
 },
 "nbformat": 4,
 "nbformat_minor": 5
}
