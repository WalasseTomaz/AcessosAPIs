{
 "cells": [
  {
   "cell_type": "markdown",
   "id": "15095822",
   "metadata": {
    "id": "0QM6_FLJGyHD",
    "papermill": {
     "duration": 0.006323,
     "end_time": "2023-10-12T20:10:43.725648",
     "exception": false,
     "start_time": "2023-10-12T20:10:43.719325",
     "status": "completed"
    },
    "tags": []
   },
   "source": [
    "# Notebook acesso a API Ipea Data com Python.\n",
    "\n",
    "*Referência:* https://analisemacro.com.br/economia/indicadores/coletando-dados-do-ipeadata-com-python/"
   ]
  },
  {
   "cell_type": "code",
   "execution_count": 1,
   "id": "ddbefc73",
   "metadata": {
    "execution": {
     "iopub.execute_input": "2023-10-12T20:10:43.737112Z",
     "iopub.status.busy": "2023-10-12T20:10:43.736476Z",
     "iopub.status.idle": "2023-10-12T20:10:55.024501Z",
     "shell.execute_reply": "2023-10-12T20:10:55.023340Z"
    },
    "executionInfo": {
     "elapsed": 19561,
     "status": "ok",
     "timestamp": 1697136570881,
     "user": {
      "displayName": "Acadêmico Econômico",
      "userId": "10997258971819983292"
     },
     "user_tz": 180
    },
    "id": "Ebs_ObMpGmLd",
    "outputId": "be8a6fce-4c04-46ce-d50e-f851e6a6ecd0",
    "papermill": {
     "duration": 11.296805,
     "end_time": "2023-10-12T20:10:55.026961",
     "exception": false,
     "start_time": "2023-10-12T20:10:43.730156",
     "status": "completed"
    },
    "tags": []
   },
   "outputs": [],
   "source": [
    "# Baixando a biblioteca de integração com a API Ipea Data.\n",
    "!pip install ipeadatapy --quiet"
   ]
  },
  {
   "cell_type": "code",
   "execution_count": 2,
   "id": "4b06a4d1",
   "metadata": {
    "execution": {
     "iopub.execute_input": "2023-10-12T20:10:55.038181Z",
     "iopub.status.busy": "2023-10-12T20:10:55.037361Z",
     "iopub.status.idle": "2023-10-12T20:10:55.464159Z",
     "shell.execute_reply": "2023-10-12T20:10:55.462667Z"
    },
    "executionInfo": {
     "elapsed": 734,
     "status": "ok",
     "timestamp": 1697134691561,
     "user": {
      "displayName": "Acadêmico Econômico",
      "userId": "10997258971819983292"
     },
     "user_tz": 180
    },
    "id": "1pqYlXqjG9Qr",
    "papermill": {
     "duration": 0.434918,
     "end_time": "2023-10-12T20:10:55.466512",
     "exception": false,
     "start_time": "2023-10-12T20:10:55.031594",
     "status": "completed"
    },
    "tags": []
   },
   "outputs": [],
   "source": [
    "# Instalando as bibliotecas necessárias.\n",
    "import ipeadatapy as ip\n",
    "import pandas as pd\n",
    "import matplotlib.pyplot as plt"
   ]
  },
  {
   "cell_type": "code",
   "execution_count": 3,
   "id": "f10e27d3",
   "metadata": {
    "execution": {
     "iopub.execute_input": "2023-10-12T20:10:55.476911Z",
     "iopub.status.busy": "2023-10-12T20:10:55.476325Z",
     "iopub.status.idle": "2023-10-12T20:10:55.481458Z",
     "shell.execute_reply": "2023-10-12T20:10:55.480391Z"
    },
    "executionInfo": {
     "elapsed": 348,
     "status": "ok",
     "timestamp": 1697134701244,
     "user": {
      "displayName": "Acadêmico Econômico",
      "userId": "10997258971819983292"
     },
     "user_tz": 180
    },
    "id": "mGCOn0HPHEgk",
    "papermill": {
     "duration": 0.012408,
     "end_time": "2023-10-12T20:10:55.483356",
     "exception": false,
     "start_time": "2023-10-12T20:10:55.470948",
     "status": "completed"
    },
    "tags": []
   },
   "outputs": [],
   "source": [
    "# Definindo Máximo do Linhas e Colunas\n",
    "pd.options.display.max_rows = 1000\n",
    "pd.options.display.max_columns = 1000"
   ]
  },
  {
   "cell_type": "code",
   "execution_count": 4,
   "id": "8a88ea03",
   "metadata": {
    "execution": {
     "iopub.execute_input": "2023-10-12T20:10:55.493207Z",
     "iopub.status.busy": "2023-10-12T20:10:55.492882Z",
     "iopub.status.idle": "2023-10-12T20:10:55.497548Z",
     "shell.execute_reply": "2023-10-12T20:10:55.496484Z"
    },
    "executionInfo": {
     "elapsed": 260,
     "status": "ok",
     "timestamp": 1697134708055,
     "user": {
      "displayName": "Acadêmico Econômico",
      "userId": "10997258971819983292"
     },
     "user_tz": 180
    },
    "id": "q2Ofgeb5HGkx",
    "papermill": {
     "duration": 0.011669,
     "end_time": "2023-10-12T20:10:55.499433",
     "exception": false,
     "start_time": "2023-10-12T20:10:55.487764",
     "status": "completed"
    },
    "tags": []
   },
   "outputs": [],
   "source": [
    "# Removendo Warnings.\n",
    "import warnings\n",
    "warnings.filterwarnings(\"ignore\")"
   ]
  },
  {
   "cell_type": "markdown",
   "id": "d276d17e",
   "metadata": {
    "id": "fjk_Y-tKJIAE",
    "papermill": {
     "duration": 0.004057,
     "end_time": "2023-10-12T20:10:55.508058",
     "exception": false,
     "start_time": "2023-10-12T20:10:55.504001",
     "status": "completed"
    },
    "tags": []
   },
   "source": [
    "# Busca a série da SELIC no SGS\n",
    "selic = sgs.get({'selic':432}, start = '2010-01-01')\n",
    "\n",
    "# Plota\n",
    "sns.set_theme()"
   ]
  },
  {
   "cell_type": "code",
   "execution_count": 5,
   "id": "6fe4dd4c",
   "metadata": {
    "execution": {
     "iopub.execute_input": "2023-10-12T20:10:55.518628Z",
     "iopub.status.busy": "2023-10-12T20:10:55.518242Z",
     "iopub.status.idle": "2023-10-12T20:11:02.485859Z",
     "shell.execute_reply": "2023-10-12T20:11:02.484643Z"
    },
    "executionInfo": {
     "elapsed": 5339,
     "status": "ok",
     "timestamp": 1697135283237,
     "user": {
      "displayName": "Acadêmico Econômico",
      "userId": "10997258971819983292"
     },
     "user_tz": 180
    },
    "id": "C-hHQRYCJNpJ",
    "outputId": "082de695-cb86-47a1-ef1a-019a82ca13ef",
    "papermill": {
     "duration": 6.975736,
     "end_time": "2023-10-12T20:11:02.488079",
     "exception": false,
     "start_time": "2023-10-12T20:10:55.512343",
     "status": "completed"
    },
    "tags": []
   },
   "outputs": [
    {
     "data": {
      "text/html": [
       "<div>\n",
       "<style scoped>\n",
       "    .dataframe tbody tr th:only-of-type {\n",
       "        vertical-align: middle;\n",
       "    }\n",
       "\n",
       "    .dataframe tbody tr th {\n",
       "        vertical-align: top;\n",
       "    }\n",
       "\n",
       "    .dataframe thead th {\n",
       "        text-align: right;\n",
       "    }\n",
       "</style>\n",
       "<table border=\"1\" class=\"dataframe\">\n",
       "  <thead>\n",
       "    <tr style=\"text-align: right;\">\n",
       "      <th></th>\n",
       "      <th>CODE</th>\n",
       "      <th>NAME</th>\n",
       "    </tr>\n",
       "  </thead>\n",
       "  <tbody>\n",
       "    <tr>\n",
       "      <th>0</th>\n",
       "      <td>ABATE_ABPEAV</td>\n",
       "      <td>Abate - aves - peso das carcaças</td>\n",
       "    </tr>\n",
       "    <tr>\n",
       "      <th>1</th>\n",
       "      <td>ABATE_ABPEBV</td>\n",
       "      <td>Abate - bovinos - peso das carcaças</td>\n",
       "    </tr>\n",
       "    <tr>\n",
       "      <th>2</th>\n",
       "      <td>ABATE_ABPESU</td>\n",
       "      <td>Abate - suínos - peso das carcaças</td>\n",
       "    </tr>\n",
       "    <tr>\n",
       "      <th>3</th>\n",
       "      <td>ABATE_ABQUAV</td>\n",
       "      <td>Abate - aves - quantidade</td>\n",
       "    </tr>\n",
       "    <tr>\n",
       "      <th>4</th>\n",
       "      <td>ABATE_ABQUBV</td>\n",
       "      <td>Abate - bovinos - quantidade</td>\n",
       "    </tr>\n",
       "  </tbody>\n",
       "</table>\n",
       "</div>"
      ],
      "text/plain": [
       "           CODE                                 NAME\n",
       "0  ABATE_ABPEAV     Abate - aves - peso das carcaças\n",
       "1  ABATE_ABPEBV  Abate - bovinos - peso das carcaças\n",
       "2  ABATE_ABPESU   Abate - suínos - peso das carcaças\n",
       "3  ABATE_ABQUAV            Abate - aves - quantidade\n",
       "4  ABATE_ABQUBV         Abate - bovinos - quantidade"
      ]
     },
     "execution_count": 5,
     "metadata": {},
     "output_type": "execute_result"
    }
   ],
   "source": [
    "# Imprimindo bases de dados disponíveis.\n",
    "ip.list_series().head()"
   ]
  },
  {
   "cell_type": "code",
   "execution_count": 6,
   "id": "33a4b44b",
   "metadata": {
    "execution": {
     "iopub.execute_input": "2023-10-12T20:11:02.500310Z",
     "iopub.status.busy": "2023-10-12T20:11:02.499951Z",
     "iopub.status.idle": "2023-10-12T20:11:10.477913Z",
     "shell.execute_reply": "2023-10-12T20:11:10.476505Z"
    },
    "executionInfo": {
     "elapsed": 5214,
     "status": "ok",
     "timestamp": 1697135405503,
     "user": {
      "displayName": "Acadêmico Econômico",
      "userId": "10997258971819983292"
     },
     "user_tz": 180
    },
    "id": "_RqnL9KnJVM6",
    "outputId": "35e94304-10d9-48d2-88f8-45e1da57fd98",
    "papermill": {
     "duration": 7.987175,
     "end_time": "2023-10-12T20:11:10.480300",
     "exception": false,
     "start_time": "2023-10-12T20:11:02.493125",
     "status": "completed"
    },
    "tags": []
   },
   "outputs": [
    {
     "data": {
      "text/html": [
       "<div>\n",
       "<style scoped>\n",
       "    .dataframe tbody tr th:only-of-type {\n",
       "        vertical-align: middle;\n",
       "    }\n",
       "\n",
       "    .dataframe tbody tr th {\n",
       "        vertical-align: top;\n",
       "    }\n",
       "\n",
       "    .dataframe thead th {\n",
       "        text-align: right;\n",
       "    }\n",
       "</style>\n",
       "<table border=\"1\" class=\"dataframe\">\n",
       "  <thead>\n",
       "    <tr style=\"text-align: right;\">\n",
       "      <th></th>\n",
       "      <th>CODE</th>\n",
       "      <th>NAME</th>\n",
       "    </tr>\n",
       "  </thead>\n",
       "  <tbody>\n",
       "    <tr>\n",
       "      <th>4189</th>\n",
       "      <td>GAC_PIBCAP</td>\n",
       "      <td>PIB per capita (preços 2022)</td>\n",
       "    </tr>\n",
       "    <tr>\n",
       "      <th>4190</th>\n",
       "      <td>GAC_PIBCAPN</td>\n",
       "      <td>PIB per capita</td>\n",
       "    </tr>\n",
       "    <tr>\n",
       "      <th>4191</th>\n",
       "      <td>GAC_PIBCAPR</td>\n",
       "      <td>PIB per capita (preços 2022)</td>\n",
       "    </tr>\n",
       "    <tr>\n",
       "      <th>4192</th>\n",
       "      <td>GAC_PIBCAPUSN</td>\n",
       "      <td>PIB per capita</td>\n",
       "    </tr>\n",
       "    <tr>\n",
       "      <th>7540</th>\n",
       "      <td>PAN_PIBCAP</td>\n",
       "      <td>PIB per capita</td>\n",
       "    </tr>\n",
       "  </tbody>\n",
       "</table>\n",
       "</div>"
      ],
      "text/plain": [
       "               CODE                          NAME\n",
       "4189     GAC_PIBCAP  PIB per capita (preços 2022)\n",
       "4190    GAC_PIBCAPN                PIB per capita\n",
       "4191    GAC_PIBCAPR  PIB per capita (preços 2022)\n",
       "4192  GAC_PIBCAPUSN                PIB per capita\n",
       "7540     PAN_PIBCAP                PIB per capita"
      ]
     },
     "execution_count": 6,
     "metadata": {},
     "output_type": "execute_result"
    }
   ],
   "source": [
    "# Procurando Indicador Especifico. \"PIB per capita\".\n",
    "ip.list_series('PIB per capita')"
   ]
  },
  {
   "cell_type": "code",
   "execution_count": 7,
   "id": "4edee223",
   "metadata": {
    "execution": {
     "iopub.execute_input": "2023-10-12T20:11:10.495331Z",
     "iopub.status.busy": "2023-10-12T20:11:10.494957Z",
     "iopub.status.idle": "2023-10-12T20:11:11.524425Z",
     "shell.execute_reply": "2023-10-12T20:11:11.523132Z"
    },
    "executionInfo": {
     "elapsed": 428,
     "status": "ok",
     "timestamp": 1697135717754,
     "user": {
      "displayName": "Acadêmico Econômico",
      "userId": "10997258971819983292"
     },
     "user_tz": 180
    },
    "id": "kXK3SKWnJzzI",
    "outputId": "a6214f18-2a40-4f9c-d2e2-842e24c90057",
    "papermill": {
     "duration": 1.040608,
     "end_time": "2023-10-12T20:11:11.526839",
     "exception": false,
     "start_time": "2023-10-12T20:11:10.486231",
     "status": "completed"
    },
    "tags": []
   },
   "outputs": [
    {
     "data": {
      "text/html": [
       "<div>\n",
       "<style scoped>\n",
       "    .dataframe tbody tr th:only-of-type {\n",
       "        vertical-align: middle;\n",
       "    }\n",
       "\n",
       "    .dataframe tbody tr th {\n",
       "        vertical-align: top;\n",
       "    }\n",
       "\n",
       "    .dataframe thead th {\n",
       "        text-align: right;\n",
       "    }\n",
       "</style>\n",
       "<table border=\"1\" class=\"dataframe\">\n",
       "  <thead>\n",
       "    <tr style=\"text-align: right;\">\n",
       "      <th></th>\n",
       "      <th>PIB per capita (preços 2022)</th>\n",
       "    </tr>\n",
       "  </thead>\n",
       "  <tbody>\n",
       "    <tr>\n",
       "      <th>Name</th>\n",
       "      <td>PIB per capita (preços 2022)</td>\n",
       "    </tr>\n",
       "    <tr>\n",
       "      <th>Code</th>\n",
       "      <td>GAC_PIBCAP</td>\n",
       "    </tr>\n",
       "    <tr>\n",
       "      <th>Big Theme</th>\n",
       "      <td>Macroeconômico</td>\n",
       "    </tr>\n",
       "    <tr>\n",
       "      <th>Theme code</th>\n",
       "      <td>8</td>\n",
       "    </tr>\n",
       "    <tr>\n",
       "      <th>Source</th>\n",
       "      <td>Instituto de Pesquisa Econômica Aplicada</td>\n",
       "    </tr>\n",
       "    <tr>\n",
       "      <th>Source acronym</th>\n",
       "      <td>IPEA</td>\n",
       "    </tr>\n",
       "    <tr>\n",
       "      <th>Comment</th>\n",
       "      <td>O produto interno bruto (PIB) é o total dos be...</td>\n",
       "    </tr>\n",
       "    <tr>\n",
       "      <th>Last update</th>\n",
       "      <td>2023-09-06T18:52:00.58-03:00</td>\n",
       "    </tr>\n",
       "    <tr>\n",
       "      <th>Frequency</th>\n",
       "      <td>Anual</td>\n",
       "    </tr>\n",
       "    <tr>\n",
       "      <th>Measure</th>\n",
       "      <td>US$ de 2022</td>\n",
       "    </tr>\n",
       "    <tr>\n",
       "      <th>Unit</th>\n",
       "      <td>mil</td>\n",
       "    </tr>\n",
       "    <tr>\n",
       "      <th>Status</th>\n",
       "      <td>A</td>\n",
       "    </tr>\n",
       "  </tbody>\n",
       "</table>\n",
       "</div>"
      ],
      "text/plain": [
       "                                     PIB per capita (preços 2022)\n",
       "Name                                 PIB per capita (preços 2022)\n",
       "Code                                                   GAC_PIBCAP\n",
       "Big Theme                                          Macroeconômico\n",
       "Theme code                                                      8\n",
       "Source                   Instituto de Pesquisa Econômica Aplicada\n",
       "Source acronym                                               IPEA\n",
       "Comment         O produto interno bruto (PIB) é o total dos be...\n",
       "Last update                          2023-09-06T18:52:00.58-03:00\n",
       "Frequency                                                   Anual\n",
       "Measure                                               US$ de 2022\n",
       "Unit                                                          mil\n",
       "Status                                                          A"
      ]
     },
     "execution_count": 7,
     "metadata": {},
     "output_type": "execute_result"
    }
   ],
   "source": [
    "# Descrição de série de dados\n",
    "ip.describe('GAC_PIBCAP')"
   ]
  },
  {
   "cell_type": "markdown",
   "id": "965cff87",
   "metadata": {
    "id": "VeQy82xTKDA8",
    "papermill": {
     "duration": 0.005151,
     "end_time": "2023-10-12T20:11:11.537708",
     "exception": false,
     "start_time": "2023-10-12T20:11:11.532557",
     "status": "completed"
    },
    "tags": []
   },
   "source": [
    "## Pesquisa dos Metadados\n",
    "\n",
    " Permite a busca da série, porém, com maiores quantidades de filtros e informações."
   ]
  },
  {
   "cell_type": "code",
   "execution_count": 8,
   "id": "199311eb",
   "metadata": {
    "execution": {
     "iopub.execute_input": "2023-10-12T20:11:11.550056Z",
     "iopub.status.busy": "2023-10-12T20:11:11.549721Z",
     "iopub.status.idle": "2023-10-12T20:11:17.550050Z",
     "shell.execute_reply": "2023-10-12T20:11:17.549161Z"
    },
    "executionInfo": {
     "elapsed": 4491,
     "status": "ok",
     "timestamp": 1697135570558,
     "user": {
      "displayName": "Acadêmico Econômico",
      "userId": "10997258971819983292"
     },
     "user_tz": 180
    },
    "id": "MuM0qG10KLJR",
    "outputId": "1a3ab437-f908-4091-f9a7-14e15cdb4638",
    "papermill": {
     "duration": 6.009576,
     "end_time": "2023-10-12T20:11:17.552578",
     "exception": false,
     "start_time": "2023-10-12T20:11:11.543002",
     "status": "completed"
    },
    "tags": []
   },
   "outputs": [
    {
     "data": {
      "text/html": [
       "<div>\n",
       "<style scoped>\n",
       "    .dataframe tbody tr th:only-of-type {\n",
       "        vertical-align: middle;\n",
       "    }\n",
       "\n",
       "    .dataframe tbody tr th {\n",
       "        vertical-align: top;\n",
       "    }\n",
       "\n",
       "    .dataframe thead th {\n",
       "        text-align: right;\n",
       "    }\n",
       "</style>\n",
       "<table border=\"1\" class=\"dataframe\">\n",
       "  <thead>\n",
       "    <tr style=\"text-align: right;\">\n",
       "      <th></th>\n",
       "      <th>CODE</th>\n",
       "      <th>NAME</th>\n",
       "      <th>COMMENT</th>\n",
       "      <th>LAST UPDATE</th>\n",
       "      <th>BIG THEME</th>\n",
       "      <th>SOURCE ACRONYM</th>\n",
       "      <th>SOURCE</th>\n",
       "      <th>SOURCE URL</th>\n",
       "      <th>FREQUENCY</th>\n",
       "      <th>MEASURE</th>\n",
       "      <th>UNIT</th>\n",
       "      <th>SERIES STATUS</th>\n",
       "      <th>THEME CODE</th>\n",
       "      <th>COUNTRY</th>\n",
       "      <th>NUMERICA</th>\n",
       "    </tr>\n",
       "  </thead>\n",
       "  <tbody>\n",
       "    <tr>\n",
       "      <th>8147</th>\n",
       "      <td>BMF12_SWAPDI18012</td>\n",
       "      <td>Taxa referencial - swaps - DI x  pré-fixada - ...</td>\n",
       "      <td>Os contratos de swap são aqueles em que as par...</td>\n",
       "      <td>2023-10-03T11:36:00.517-03:00</td>\n",
       "      <td>Macroeconômico</td>\n",
       "      <td>BM&amp;FBovespa</td>\n",
       "      <td>Bolsa de Valores, Mercadorias e Futuros (BM&amp;FB...</td>\n",
       "      <td>https://www.b3.com.br/</td>\n",
       "      <td>Mensal</td>\n",
       "      <td>(% a.a.)</td>\n",
       "      <td>None</td>\n",
       "      <td>A</td>\n",
       "      <td>39</td>\n",
       "      <td>BRA</td>\n",
       "      <td>True</td>\n",
       "    </tr>\n",
       "    <tr>\n",
       "      <th>8148</th>\n",
       "      <td>BMF12_SWAPDI180F12</td>\n",
       "      <td>Taxa referencial - swaps - DI x pré-fixada - 1...</td>\n",
       "      <td>Os contratos de swap são aqueles em que as par...</td>\n",
       "      <td>2023-10-03T11:36:00.517-03:00</td>\n",
       "      <td>Macroeconômico</td>\n",
       "      <td>BM&amp;FBovespa</td>\n",
       "      <td>Bolsa de Valores, Mercadorias e Futuros (BM&amp;FB...</td>\n",
       "      <td>https://www.b3.com.br/</td>\n",
       "      <td>Mensal</td>\n",
       "      <td>(% a.a.)</td>\n",
       "      <td>None</td>\n",
       "      <td>A</td>\n",
       "      <td>39</td>\n",
       "      <td>BRA</td>\n",
       "      <td>True</td>\n",
       "    </tr>\n",
       "    <tr>\n",
       "      <th>8149</th>\n",
       "      <td>BMF12_SWAPDI36012</td>\n",
       "      <td>Taxa referencial - swaps - DI x pré-fixada - 3...</td>\n",
       "      <td>Os contratos de swap são aqueles em que as par...</td>\n",
       "      <td>2023-10-03T11:36:00.517-03:00</td>\n",
       "      <td>Macroeconômico</td>\n",
       "      <td>BM&amp;FBovespa</td>\n",
       "      <td>Bolsa de Valores, Mercadorias e Futuros (BM&amp;FB...</td>\n",
       "      <td>https://www.b3.com.br/</td>\n",
       "      <td>Mensal</td>\n",
       "      <td>(% a.a.)</td>\n",
       "      <td>None</td>\n",
       "      <td>A</td>\n",
       "      <td>39</td>\n",
       "      <td>BRA</td>\n",
       "      <td>True</td>\n",
       "    </tr>\n",
       "    <tr>\n",
       "      <th>8150</th>\n",
       "      <td>BMF12_SWAPDI360F12</td>\n",
       "      <td>Taxa referencial - swaps - DI x pré-fixada - 3...</td>\n",
       "      <td>Os contratos de swap são aqueles em que as par...</td>\n",
       "      <td>2023-10-03T11:36:00.517-03:00</td>\n",
       "      <td>Macroeconômico</td>\n",
       "      <td>BM&amp;FBovespa</td>\n",
       "      <td>Bolsa de Valores, Mercadorias e Futuros (BM&amp;FB...</td>\n",
       "      <td>https://www.b3.com.br/</td>\n",
       "      <td>Mensal</td>\n",
       "      <td>(% a.a.)</td>\n",
       "      <td>None</td>\n",
       "      <td>A</td>\n",
       "      <td>39</td>\n",
       "      <td>BRA</td>\n",
       "      <td>True</td>\n",
       "    </tr>\n",
       "  </tbody>\n",
       "</table>\n",
       "</div>"
      ],
      "text/plain": [
       "                    CODE                                               NAME  \\\n",
       "8147   BMF12_SWAPDI18012  Taxa referencial - swaps - DI x  pré-fixada - ...   \n",
       "8148  BMF12_SWAPDI180F12  Taxa referencial - swaps - DI x pré-fixada - 1...   \n",
       "8149   BMF12_SWAPDI36012  Taxa referencial - swaps - DI x pré-fixada - 3...   \n",
       "8150  BMF12_SWAPDI360F12  Taxa referencial - swaps - DI x pré-fixada - 3...   \n",
       "\n",
       "                                                COMMENT  \\\n",
       "8147  Os contratos de swap são aqueles em que as par...   \n",
       "8148  Os contratos de swap são aqueles em que as par...   \n",
       "8149  Os contratos de swap são aqueles em que as par...   \n",
       "8150  Os contratos de swap são aqueles em que as par...   \n",
       "\n",
       "                        LAST UPDATE       BIG THEME SOURCE ACRONYM  \\\n",
       "8147  2023-10-03T11:36:00.517-03:00  Macroeconômico    BM&FBovespa   \n",
       "8148  2023-10-03T11:36:00.517-03:00  Macroeconômico    BM&FBovespa   \n",
       "8149  2023-10-03T11:36:00.517-03:00  Macroeconômico    BM&FBovespa   \n",
       "8150  2023-10-03T11:36:00.517-03:00  Macroeconômico    BM&FBovespa   \n",
       "\n",
       "                                                 SOURCE  \\\n",
       "8147  Bolsa de Valores, Mercadorias e Futuros (BM&FB...   \n",
       "8148  Bolsa de Valores, Mercadorias e Futuros (BM&FB...   \n",
       "8149  Bolsa de Valores, Mercadorias e Futuros (BM&FB...   \n",
       "8150  Bolsa de Valores, Mercadorias e Futuros (BM&FB...   \n",
       "\n",
       "                  SOURCE URL FREQUENCY   MEASURE  UNIT SERIES STATUS  \\\n",
       "8147  https://www.b3.com.br/    Mensal  (% a.a.)  None             A   \n",
       "8148  https://www.b3.com.br/    Mensal  (% a.a.)  None             A   \n",
       "8149  https://www.b3.com.br/    Mensal  (% a.a.)  None             A   \n",
       "8150  https://www.b3.com.br/    Mensal  (% a.a.)  None             A   \n",
       "\n",
       "      THEME CODE COUNTRY  NUMERICA  \n",
       "8147          39     BRA      True  \n",
       "8148          39     BRA      True  \n",
       "8149          39     BRA      True  \n",
       "8150          39     BRA      True  "
      ]
     },
     "execution_count": 8,
     "metadata": {},
     "output_type": "execute_result"
    }
   ],
   "source": [
    "# Filtrando de série de dados\n",
    "ip.metadata(big_theme = 'Macroeconômico', frequency = 'Mensal', country = 'BRA', source = 'BM&FBovespa')"
   ]
  },
  {
   "cell_type": "markdown",
   "id": "b6454933",
   "metadata": {
    "id": "KtoUXccOKoya",
    "papermill": {
     "duration": 0.005306,
     "end_time": "2023-10-12T20:11:17.564115",
     "exception": false,
     "start_time": "2023-10-12T20:11:17.558809",
     "status": "completed"
    },
    "tags": []
   },
   "source": [
    "## Extraindo DataFrame para análise do PIB $per$ $capita$ do Brasil."
   ]
  },
  {
   "cell_type": "code",
   "execution_count": 9,
   "id": "fae160c6",
   "metadata": {
    "execution": {
     "iopub.execute_input": "2023-10-12T20:11:17.578086Z",
     "iopub.status.busy": "2023-10-12T20:11:17.577610Z",
     "iopub.status.idle": "2023-10-12T20:11:19.403714Z",
     "shell.execute_reply": "2023-10-12T20:11:19.402377Z"
    },
    "executionInfo": {
     "elapsed": 1235,
     "status": "ok",
     "timestamp": 1697135737633,
     "user": {
      "displayName": "Acadêmico Econômico",
      "userId": "10997258971819983292"
     },
     "user_tz": 180
    },
    "id": "CpsllMZmKp7U",
    "papermill": {
     "duration": 1.836472,
     "end_time": "2023-10-12T20:11:19.406105",
     "exception": false,
     "start_time": "2023-10-12T20:11:17.569633",
     "status": "completed"
    },
    "tags": []
   },
   "outputs": [],
   "source": [
    "# Extraindo data frame.\n",
    "df = ip.timeseries('GAC_PIBCAP')"
   ]
  },
  {
   "cell_type": "code",
   "execution_count": 10,
   "id": "a3c1193e",
   "metadata": {
    "execution": {
     "iopub.execute_input": "2023-10-12T20:11:19.419084Z",
     "iopub.status.busy": "2023-10-12T20:11:19.418719Z",
     "iopub.status.idle": "2023-10-12T20:11:19.432160Z",
     "shell.execute_reply": "2023-10-12T20:11:19.430771Z"
    },
    "executionInfo": {
     "elapsed": 317,
     "status": "ok",
     "timestamp": 1697135748009,
     "user": {
      "displayName": "Acadêmico Econômico",
      "userId": "10997258971819983292"
     },
     "user_tz": 180
    },
    "id": "WXZabDAHK5Fa",
    "outputId": "90d86c13-1e68-4330-c328-233a358835b1",
    "papermill": {
     "duration": 0.022376,
     "end_time": "2023-10-12T20:11:19.434074",
     "exception": false,
     "start_time": "2023-10-12T20:11:19.411698",
     "status": "completed"
    },
    "tags": []
   },
   "outputs": [
    {
     "data": {
      "text/html": [
       "<div>\n",
       "<style scoped>\n",
       "    .dataframe tbody tr th:only-of-type {\n",
       "        vertical-align: middle;\n",
       "    }\n",
       "\n",
       "    .dataframe tbody tr th {\n",
       "        vertical-align: top;\n",
       "    }\n",
       "\n",
       "    .dataframe thead th {\n",
       "        text-align: right;\n",
       "    }\n",
       "</style>\n",
       "<table border=\"1\" class=\"dataframe\">\n",
       "  <thead>\n",
       "    <tr style=\"text-align: right;\">\n",
       "      <th></th>\n",
       "      <th>CODE</th>\n",
       "      <th>RAW DATE</th>\n",
       "      <th>DAY</th>\n",
       "      <th>MONTH</th>\n",
       "      <th>YEAR</th>\n",
       "      <th>VALUE (US$ de 2022)</th>\n",
       "    </tr>\n",
       "    <tr>\n",
       "      <th>DATE</th>\n",
       "      <th></th>\n",
       "      <th></th>\n",
       "      <th></th>\n",
       "      <th></th>\n",
       "      <th></th>\n",
       "      <th></th>\n",
       "    </tr>\n",
       "  </thead>\n",
       "  <tbody>\n",
       "    <tr>\n",
       "      <th>1900-01-01</th>\n",
       "      <td>GAC_PIBCAP</td>\n",
       "      <td>1900-01-01T00:00:00-02:00</td>\n",
       "      <td>1</td>\n",
       "      <td>1</td>\n",
       "      <td>1900</td>\n",
       "      <td>0.550753</td>\n",
       "    </tr>\n",
       "    <tr>\n",
       "      <th>1901-01-01</th>\n",
       "      <td>GAC_PIBCAP</td>\n",
       "      <td>1901-01-01T00:00:00-02:00</td>\n",
       "      <td>1</td>\n",
       "      <td>1</td>\n",
       "      <td>1901</td>\n",
       "      <td>0.612622</td>\n",
       "    </tr>\n",
       "    <tr>\n",
       "      <th>1902-01-01</th>\n",
       "      <td>GAC_PIBCAP</td>\n",
       "      <td>1902-01-01T00:00:00-02:00</td>\n",
       "      <td>1</td>\n",
       "      <td>1</td>\n",
       "      <td>1902</td>\n",
       "      <td>0.592083</td>\n",
       "    </tr>\n",
       "    <tr>\n",
       "      <th>1903-01-01</th>\n",
       "      <td>GAC_PIBCAP</td>\n",
       "      <td>1903-01-01T00:00:00-02:00</td>\n",
       "      <td>1</td>\n",
       "      <td>1</td>\n",
       "      <td>1903</td>\n",
       "      <td>0.585508</td>\n",
       "    </tr>\n",
       "    <tr>\n",
       "      <th>1904-01-01</th>\n",
       "      <td>GAC_PIBCAP</td>\n",
       "      <td>1904-01-01T00:00:00-02:00</td>\n",
       "      <td>1</td>\n",
       "      <td>1</td>\n",
       "      <td>1904</td>\n",
       "      <td>0.575623</td>\n",
       "    </tr>\n",
       "  </tbody>\n",
       "</table>\n",
       "</div>"
      ],
      "text/plain": [
       "                  CODE                   RAW DATE  DAY  MONTH  YEAR  \\\n",
       "DATE                                                                  \n",
       "1900-01-01  GAC_PIBCAP  1900-01-01T00:00:00-02:00    1      1  1900   \n",
       "1901-01-01  GAC_PIBCAP  1901-01-01T00:00:00-02:00    1      1  1901   \n",
       "1902-01-01  GAC_PIBCAP  1902-01-01T00:00:00-02:00    1      1  1902   \n",
       "1903-01-01  GAC_PIBCAP  1903-01-01T00:00:00-02:00    1      1  1903   \n",
       "1904-01-01  GAC_PIBCAP  1904-01-01T00:00:00-02:00    1      1  1904   \n",
       "\n",
       "            VALUE (US$ de 2022)  \n",
       "DATE                             \n",
       "1900-01-01             0.550753  \n",
       "1901-01-01             0.612622  \n",
       "1902-01-01             0.592083  \n",
       "1903-01-01             0.585508  \n",
       "1904-01-01             0.575623  "
      ]
     },
     "execution_count": 10,
     "metadata": {},
     "output_type": "execute_result"
    }
   ],
   "source": [
    "# Visualizando data frame.\n",
    "df.head(5)"
   ]
  },
  {
   "cell_type": "code",
   "execution_count": 11,
   "id": "2860e8f5",
   "metadata": {
    "execution": {
     "iopub.execute_input": "2023-10-12T20:11:19.447221Z",
     "iopub.status.busy": "2023-10-12T20:11:19.446810Z",
     "iopub.status.idle": "2023-10-12T20:11:19.454493Z",
     "shell.execute_reply": "2023-10-12T20:11:19.453487Z"
    },
    "executionInfo": {
     "elapsed": 4,
     "status": "ok",
     "timestamp": 1697135755374,
     "user": {
      "displayName": "Acadêmico Econômico",
      "userId": "10997258971819983292"
     },
     "user_tz": 180
    },
    "id": "uwehil46LGxT",
    "outputId": "28e3407c-5220-4729-879f-4d8976222fde",
    "papermill": {
     "duration": 0.016698,
     "end_time": "2023-10-12T20:11:19.456497",
     "exception": false,
     "start_time": "2023-10-12T20:11:19.439799",
     "status": "completed"
    },
    "tags": []
   },
   "outputs": [
    {
     "data": {
      "text/plain": [
       "(123, 6)"
      ]
     },
     "execution_count": 11,
     "metadata": {},
     "output_type": "execute_result"
    }
   ],
   "source": [
    "# Verificando tamanho do data frame.\n",
    "df.shape"
   ]
  },
  {
   "cell_type": "code",
   "execution_count": 12,
   "id": "f1f38c92",
   "metadata": {
    "execution": {
     "iopub.execute_input": "2023-10-12T20:11:19.469882Z",
     "iopub.status.busy": "2023-10-12T20:11:19.469507Z",
     "iopub.status.idle": "2023-10-12T20:11:19.492915Z",
     "shell.execute_reply": "2023-10-12T20:11:19.491390Z"
    },
    "executionInfo": {
     "elapsed": 252,
     "status": "ok",
     "timestamp": 1697135787421,
     "user": {
      "displayName": "Acadêmico Econômico",
      "userId": "10997258971819983292"
     },
     "user_tz": 180
    },
    "id": "SaarGy5lLOpa",
    "outputId": "4918e5df-b57d-4929-bb89-9fed8f47a74e",
    "papermill": {
     "duration": 0.03268,
     "end_time": "2023-10-12T20:11:19.495139",
     "exception": false,
     "start_time": "2023-10-12T20:11:19.462459",
     "status": "completed"
    },
    "tags": []
   },
   "outputs": [
    {
     "name": "stdout",
     "output_type": "stream",
     "text": [
      "<class 'pandas.core.frame.DataFrame'>\n",
      "DatetimeIndex: 123 entries, 1900-01-01 to 2022-01-01\n",
      "Data columns (total 6 columns):\n",
      " #   Column               Non-Null Count  Dtype  \n",
      "---  ------               --------------  -----  \n",
      " 0   CODE                 123 non-null    object \n",
      " 1   RAW DATE             123 non-null    object \n",
      " 2   DAY                  123 non-null    int32  \n",
      " 3   MONTH                123 non-null    int32  \n",
      " 4   YEAR                 123 non-null    int32  \n",
      " 5   VALUE (US$ de 2022)  123 non-null    float64\n",
      "dtypes: float64(1), int32(3), object(2)\n",
      "memory usage: 5.3+ KB\n"
     ]
    }
   ],
   "source": [
    "# Verificando qualidade das colunas.\n",
    "df.info()"
   ]
  },
  {
   "cell_type": "code",
   "execution_count": 13,
   "id": "1a4095c6",
   "metadata": {
    "execution": {
     "iopub.execute_input": "2023-10-12T20:11:19.509464Z",
     "iopub.status.busy": "2023-10-12T20:11:19.509024Z",
     "iopub.status.idle": "2023-10-12T20:11:19.516016Z",
     "shell.execute_reply": "2023-10-12T20:11:19.515305Z"
    },
    "executionInfo": {
     "elapsed": 6,
     "status": "ok",
     "timestamp": 1697135792524,
     "user": {
      "displayName": "Acadêmico Econômico",
      "userId": "10997258971819983292"
     },
     "user_tz": 180
    },
    "id": "9hNCXHtWLQCr",
    "outputId": "5b344f1c-0218-47e0-a0aa-9da81c6ead7b",
    "papermill": {
     "duration": 0.01662,
     "end_time": "2023-10-12T20:11:19.518056",
     "exception": false,
     "start_time": "2023-10-12T20:11:19.501436",
     "status": "completed"
    },
    "tags": []
   },
   "outputs": [
    {
     "data": {
      "text/plain": [
       "0"
      ]
     },
     "execution_count": 13,
     "metadata": {},
     "output_type": "execute_result"
    }
   ],
   "source": [
    "# Verificando valores nulos das colunas.\n",
    "df.isna().sum().sum()"
   ]
  },
  {
   "cell_type": "markdown",
   "id": "4ae8add1",
   "metadata": {
    "id": "jtX3BHUlLUM1",
    "papermill": {
     "duration": 0.006249,
     "end_time": "2023-10-12T20:11:19.531253",
     "exception": false,
     "start_time": "2023-10-12T20:11:19.525004",
     "status": "completed"
    },
    "tags": []
   },
   "source": [
    "# Bonus: Análise de Séries Temporais."
   ]
  },
  {
   "cell_type": "code",
   "execution_count": 14,
   "id": "0c8b54cf",
   "metadata": {
    "execution": {
     "iopub.execute_input": "2023-10-12T20:11:19.545620Z",
     "iopub.status.busy": "2023-10-12T20:11:19.545281Z",
     "iopub.status.idle": "2023-10-12T20:11:19.555393Z",
     "shell.execute_reply": "2023-10-12T20:11:19.554368Z"
    },
    "executionInfo": {
     "elapsed": 5,
     "status": "ok",
     "timestamp": 1697135876531,
     "user": {
      "displayName": "Acadêmico Econômico",
      "userId": "10997258971819983292"
     },
     "user_tz": 180
    },
    "id": "_udkPGcjLd6k",
    "outputId": "8bf6c778-b52d-4bf3-be2a-7ccecf0337a3",
    "papermill": {
     "duration": 0.019773,
     "end_time": "2023-10-12T20:11:19.557435",
     "exception": false,
     "start_time": "2023-10-12T20:11:19.537662",
     "status": "completed"
    },
    "tags": []
   },
   "outputs": [
    {
     "data": {
      "text/plain": [
       "count    123.000000\n",
       "mean       3.863230\n",
       "std        3.080483\n",
       "min        0.550753\n",
       "25%        0.981389\n",
       "50%        2.856971\n",
       "75%        6.741713\n",
       "max        9.525164\n",
       "Name: VALUE (US$ de 2022), dtype: float64"
      ]
     },
     "execution_count": 14,
     "metadata": {},
     "output_type": "execute_result"
    }
   ],
   "source": [
    "# Medidas resumo dos PIB's per capita.\n",
    "df['VALUE (US$ de 2022)'].describe()"
   ]
  },
  {
   "cell_type": "code",
   "execution_count": 15,
   "id": "3f8ba37f",
   "metadata": {
    "execution": {
     "iopub.execute_input": "2023-10-12T20:11:19.583910Z",
     "iopub.status.busy": "2023-10-12T20:11:19.583114Z",
     "iopub.status.idle": "2023-10-12T20:11:20.025839Z",
     "shell.execute_reply": "2023-10-12T20:11:20.024742Z"
    },
    "executionInfo": {
     "elapsed": 598,
     "status": "ok",
     "timestamp": 1697135923489,
     "user": {
      "displayName": "Acadêmico Econômico",
      "userId": "10997258971819983292"
     },
     "user_tz": 180
    },
    "id": "w871sktyLRYd",
    "outputId": "4bf65fae-ded5-4702-fc0e-83a3f0c2e60c",
    "papermill": {
     "duration": 0.463648,
     "end_time": "2023-10-12T20:11:20.028248",
     "exception": false,
     "start_time": "2023-10-12T20:11:19.564600",
     "status": "completed"
    },
    "tags": []
   },
   "outputs": [
    {
     "data": {
      "image/png": "[encoded data removed]",
      "text/plain": [
       "<Figure size 640x440 with 1 Axes>"
      ]
     },
     "metadata": {},
     "output_type": "display_data"
    }
   ],
   "source": [
    "# Visualização gráfica das séries.\n",
    "plt.style.use('seaborn-paper')\n",
    "df['VALUE (US$ de 2022)'].plot()\n",
    "plt.legend(loc='best')\n",
    "plt.title(\"PIB Per Capita\")\n",
    "plt.xlabel('Date')\n",
    "plt.ylabel('PIB Per Capita')\n",
    "plt.tight_layout()\n",
    "plt.show()"
   ]
  }
 ],
 "metadata": {
  "kernelspec": {
   "display_name": "Python 3",
   "language": "python",
   "name": "python3"
  },
  "language_info": {
   "codemirror_mode": {
    "name": "ipython",
    "version": 3
   },
   "file_extension": ".py",
   "mimetype": "text/x-python",
   "name": "python",
   "nbconvert_exporter": "python",
   "pygments_lexer": "ipython3",
   "version": "3.10.12"
  },
  "papermill": {
   "default_parameters": {},
   "duration": 40.034994,
   "end_time": "2023-10-12T20:11:20.556302",
   "environment_variables": {},
   "exception": null,
   "input_path": "__notebook__.ipynb",
   "output_path": "__notebook__.ipynb",
   "parameters": {},
   "start_time": "2023-10-12T20:10:40.521308",
   "version": "2.4.0"
  }
 },
 "nbformat": 4,
 "nbformat_minor": 5
}
