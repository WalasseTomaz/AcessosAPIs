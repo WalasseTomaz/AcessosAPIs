{
 "cells": [
  {
   "cell_type": "markdown",
   "id": "3fde740f",
   "metadata": {
    "id": "VPVs5eV8S9sV",
    "papermill": {
     "duration": 0.00352,
     "end_time": "2023-10-17T12:23:23.401184",
     "exception": false,
     "start_time": "2023-10-17T12:23:23.397664",
     "status": "completed"
    },
    "tags": []
   },
   "source": [
    "# Notebook acesso a dados do Tesouro Direto com Python.\n",
    "\n",
    "*Referência:* https://github.com/codigoquant/python_para_investimentos/blob/master/20_Tesouro_Direto_com_Python.ipynb"
   ]
  },
  {
   "cell_type": "code",
   "execution_count": 1,
   "id": "d50b9413",
   "metadata": {
    "execution": {
     "iopub.execute_input": "2023-10-17T12:23:23.410694Z",
     "iopub.status.busy": "2023-10-17T12:23:23.410018Z",
     "iopub.status.idle": "2023-10-17T12:23:23.787825Z",
     "shell.execute_reply": "2023-10-17T12:23:23.786680Z"
    },
    "id": "-T_FyguaSKTI",
    "papermill": {
     "duration": 0.384279,
     "end_time": "2023-10-17T12:23:23.790233",
     "exception": false,
     "start_time": "2023-10-17T12:23:23.405954",
     "status": "completed"
    },
    "tags": []
   },
   "outputs": [],
   "source": [
    "# Instalando as bibliotecas necessárias.\n",
    "import pandas as pd\n",
    "import matplotlib.pyplot as plt"
   ]
  },
  {
   "cell_type": "code",
   "execution_count": 2,
   "id": "30928d28",
   "metadata": {
    "execution": {
     "iopub.execute_input": "2023-10-17T12:23:23.800877Z",
     "iopub.status.busy": "2023-10-17T12:23:23.800346Z",
     "iopub.status.idle": "2023-10-17T12:23:23.805765Z",
     "shell.execute_reply": "2023-10-17T12:23:23.804599Z"
    },
    "id": "Ih56EwAxTLL2",
    "papermill": {
     "duration": 0.011778,
     "end_time": "2023-10-17T12:23:23.807984",
     "exception": false,
     "start_time": "2023-10-17T12:23:23.796206",
     "status": "completed"
    },
    "tags": []
   },
   "outputs": [],
   "source": [
    "# Definindo Máximo do Linhas e Colunas\n",
    "pd.options.display.max_rows = 1000\n",
    "pd.options.display.max_columns = 1000"
   ]
  },
  {
   "cell_type": "code",
   "execution_count": 3,
   "id": "02e2f086",
   "metadata": {
    "execution": {
     "iopub.execute_input": "2023-10-17T12:23:23.815527Z",
     "iopub.status.busy": "2023-10-17T12:23:23.815155Z",
     "iopub.status.idle": "2023-10-17T12:23:23.819772Z",
     "shell.execute_reply": "2023-10-17T12:23:23.818697Z"
    },
    "id": "U2p_XIOzTMpb",
    "papermill": {
     "duration": 0.010922,
     "end_time": "2023-10-17T12:23:23.821937",
     "exception": false,
     "start_time": "2023-10-17T12:23:23.811015",
     "status": "completed"
    },
    "tags": []
   },
   "outputs": [],
   "source": [
    "# Removendo Warnings.\n",
    "import warnings\n",
    "warnings.filterwarnings(\"ignore\")"
   ]
  },
  {
   "cell_type": "markdown",
   "id": "9594349a",
   "metadata": {
    "id": "DEyCqSadTYZv",
    "papermill": {
     "duration": 0.00269,
     "end_time": "2023-10-17T12:23:23.827676",
     "exception": false,
     "start_time": "2023-10-17T12:23:23.824986",
     "status": "completed"
    },
    "tags": []
   },
   "source": [
    "## Funções para ETL de Dados do Tesouro Direto"
   ]
  },
  {
   "cell_type": "code",
   "execution_count": 4,
   "id": "7e6043a7",
   "metadata": {
    "execution": {
     "iopub.execute_input": "2023-10-17T12:23:23.834938Z",
     "iopub.status.busy": "2023-10-17T12:23:23.834602Z",
     "iopub.status.idle": "2023-10-17T12:23:23.844199Z",
     "shell.execute_reply": "2023-10-17T12:23:23.842808Z"
    },
    "id": "rEgMDJjITePT",
    "papermill": {
     "duration": 0.015636,
     "end_time": "2023-10-17T12:23:23.846182",
     "exception": false,
     "start_time": "2023-10-17T12:23:23.830546",
     "status": "completed"
    },
    "tags": []
   },
   "outputs": [],
   "source": [
    "# Definição das funções.\n",
    "def busca_titulos_tesouro_direto():\n",
    "  url = 'https://www.tesourotransparente.gov.br/ckan/dataset/df56aa42-484a-4a59-8184-7676580c81e3/resource/796d2059-14e9-44e3-80c9-2d9e30b405c1/download/PrecoTaxaTesouroDireto.csv'\n",
    "  df  = pd.read_csv(url, sep=';', decimal=',')\n",
    "  df['Data Vencimento'] = pd.to_datetime(df['Data Vencimento'], dayfirst=True)\n",
    "  df['Data Base']       = pd.to_datetime(df['Data Base'], dayfirst=True)\n",
    "  multi_indice = pd.MultiIndex.from_frame(df.iloc[:, :3])\n",
    "  df = df.set_index(multi_indice).iloc[: , 3:]\n",
    "  return df\n",
    "\n",
    "def busca_vendas_tesouro():\n",
    "  url = \"https://www.tesourotransparente.gov.br/ckan/dataset/f0468ecc-ae97-4287-89c2-6d8139fb4343/resource/e5f90e3a-8f8d-4895-9c56-4bb2f7877920/download/VendasTesouroDireto.csv\"\n",
    "  df  = pd.read_csv(url, sep=';', decimal=',')\n",
    "  df['Vencimento do Titulo'] = pd.to_datetime(df['Vencimento do Titulo'], dayfirst=True)\n",
    "  df['Data Venda']       = pd.to_datetime(df['Data Venda'], dayfirst=True)\n",
    "  multi_indice = pd.MultiIndex.from_frame(df.iloc[:, :3])\n",
    "  df = df.set_index(multi_indice).iloc[: , 3:]\n",
    "  return df\n",
    "\n",
    "def busca_recompras_tesouro():\n",
    "  url = \"https://www.tesourotransparente.gov.br/ckan/dataset/f30db6e4-6123-416c-b094-be8dfc823601/resource/30c2b3f5-6edd-499a-8514-062bfda0f61a/download/RecomprasTesouroDireto.csv\"\n",
    "  df  = pd.read_csv(url, sep=';', decimal=',')\n",
    "  df['Vencimento do Titulo'] = pd.to_datetime(df['Vencimento do Titulo'], dayfirst=True)\n",
    "  df['Data Resgate']       = pd.to_datetime(df['Data Resgate'], dayfirst=True)\n",
    "  multi_indice = pd.MultiIndex.from_frame(df.iloc[:, :3])\n",
    "  df = df.set_index(multi_indice).iloc[: , 3:]\n",
    "  return df"
   ]
  },
  {
   "cell_type": "markdown",
   "id": "a93fcb79",
   "metadata": {
    "id": "zyERBlKjTpdQ",
    "papermill": {
     "duration": 0.002759,
     "end_time": "2023-10-17T12:23:23.851918",
     "exception": false,
     "start_time": "2023-10-17T12:23:23.849159",
     "status": "completed"
    },
    "tags": []
   },
   "source": [
    "## Visualizando titulos disponíveis."
   ]
  },
  {
   "cell_type": "code",
   "execution_count": 5,
   "id": "06dbaad6",
   "metadata": {
    "execution": {
     "iopub.execute_input": "2023-10-17T12:23:23.859716Z",
     "iopub.status.busy": "2023-10-17T12:23:23.859032Z",
     "iopub.status.idle": "2023-10-17T12:23:37.780772Z",
     "shell.execute_reply": "2023-10-17T12:23:37.779956Z"
    },
    "id": "i71SsRcuTsyD",
    "outputId": "e0a3a7a6-1634-40fb-b976-98890b3c48b1",
    "papermill": {
     "duration": 13.927929,
     "end_time": "2023-10-17T12:23:37.782692",
     "exception": false,
     "start_time": "2023-10-17T12:23:23.854763",
     "status": "completed"
    },
    "tags": []
   },
   "outputs": [
    {
     "data": {
      "text/html": [
       "<div>\n",
       "<style scoped>\n",
       "    .dataframe tbody tr th:only-of-type {\n",
       "        vertical-align: middle;\n",
       "    }\n",
       "\n",
       "    .dataframe tbody tr th {\n",
       "        vertical-align: top;\n",
       "    }\n",
       "\n",
       "    .dataframe thead th {\n",
       "        text-align: right;\n",
       "    }\n",
       "</style>\n",
       "<table border=\"1\" class=\"dataframe\">\n",
       "  <thead>\n",
       "    <tr style=\"text-align: right;\">\n",
       "      <th></th>\n",
       "      <th></th>\n",
       "      <th></th>\n",
       "      <th>Taxa Compra Manha</th>\n",
       "      <th>Taxa Venda Manha</th>\n",
       "      <th>PU Compra Manha</th>\n",
       "      <th>PU Venda Manha</th>\n",
       "      <th>PU Base Manha</th>\n",
       "    </tr>\n",
       "    <tr>\n",
       "      <th>Tipo Titulo</th>\n",
       "      <th>Data Vencimento</th>\n",
       "      <th>Data Base</th>\n",
       "      <th></th>\n",
       "      <th></th>\n",
       "      <th></th>\n",
       "      <th></th>\n",
       "      <th></th>\n",
       "    </tr>\n",
       "  </thead>\n",
       "  <tbody>\n",
       "    <tr>\n",
       "      <th rowspan=\"5\" valign=\"top\">Tesouro Educa+</th>\n",
       "      <th rowspan=\"5\" valign=\"top\">2030-12-15</th>\n",
       "      <th>2023-08-01</th>\n",
       "      <td>5.06</td>\n",
       "      <td>5.18</td>\n",
       "      <td>3248.87</td>\n",
       "      <td>3230.41</td>\n",
       "      <td>3230.41</td>\n",
       "    </tr>\n",
       "    <tr>\n",
       "      <th>2023-08-02</th>\n",
       "      <td>5.05</td>\n",
       "      <td>5.17</td>\n",
       "      <td>3251.07</td>\n",
       "      <td>3232.62</td>\n",
       "      <td>3232.62</td>\n",
       "    </tr>\n",
       "    <tr>\n",
       "      <th>2023-08-03</th>\n",
       "      <td>5.02</td>\n",
       "      <td>5.14</td>\n",
       "      <td>3256.24</td>\n",
       "      <td>3237.76</td>\n",
       "      <td>3237.76</td>\n",
       "    </tr>\n",
       "    <tr>\n",
       "      <th>2023-08-04</th>\n",
       "      <td>5.02</td>\n",
       "      <td>5.14</td>\n",
       "      <td>3257.13</td>\n",
       "      <td>3238.49</td>\n",
       "      <td>3238.49</td>\n",
       "    </tr>\n",
       "    <tr>\n",
       "      <th>2023-08-07</th>\n",
       "      <td>4.98</td>\n",
       "      <td>5.10</td>\n",
       "      <td>3263.78</td>\n",
       "      <td>3245.29</td>\n",
       "      <td>3245.29</td>\n",
       "    </tr>\n",
       "  </tbody>\n",
       "</table>\n",
       "</div>"
      ],
      "text/plain": [
       "                                           Taxa Compra Manha  \\\n",
       "Tipo Titulo    Data Vencimento Data Base                       \n",
       "Tesouro Educa+ 2030-12-15      2023-08-01               5.06   \n",
       "                               2023-08-02               5.05   \n",
       "                               2023-08-03               5.02   \n",
       "                               2023-08-04               5.02   \n",
       "                               2023-08-07               4.98   \n",
       "\n",
       "                                           Taxa Venda Manha  PU Compra Manha  \\\n",
       "Tipo Titulo    Data Vencimento Data Base                                       \n",
       "Tesouro Educa+ 2030-12-15      2023-08-01              5.18          3248.87   \n",
       "                               2023-08-02              5.17          3251.07   \n",
       "                               2023-08-03              5.14          3256.24   \n",
       "                               2023-08-04              5.14          3257.13   \n",
       "                               2023-08-07              5.10          3263.78   \n",
       "\n",
       "                                           PU Venda Manha  PU Base Manha  \n",
       "Tipo Titulo    Data Vencimento Data Base                                  \n",
       "Tesouro Educa+ 2030-12-15      2023-08-01         3230.41        3230.41  \n",
       "                               2023-08-02         3232.62        3232.62  \n",
       "                               2023-08-03         3237.76        3237.76  \n",
       "                               2023-08-04         3238.49        3238.49  \n",
       "                               2023-08-07         3245.29        3245.29  "
      ]
     },
     "execution_count": 5,
     "metadata": {},
     "output_type": "execute_result"
    }
   ],
   "source": [
    "# Comando para buscar titulos.\n",
    "titulos = busca_titulos_tesouro_direto()\n",
    "titulos.sort_index(inplace=True)\n",
    "titulos.head()"
   ]
  },
  {
   "cell_type": "code",
   "execution_count": 6,
   "id": "33843e6e",
   "metadata": {
    "execution": {
     "iopub.execute_input": "2023-10-17T12:23:37.791113Z",
     "iopub.status.busy": "2023-10-17T12:23:37.790730Z",
     "iopub.status.idle": "2023-10-17T12:23:37.806880Z",
     "shell.execute_reply": "2023-10-17T12:23:37.805762Z"
    },
    "id": "gv4JsIezT79A",
    "outputId": "f590623a-1c09-488f-dfab-2ec28273a3f1",
    "papermill": {
     "duration": 0.02316,
     "end_time": "2023-10-17T12:23:37.809125",
     "exception": false,
     "start_time": "2023-10-17T12:23:37.785965",
     "status": "completed"
    },
    "tags": []
   },
   "outputs": [
    {
     "data": {
      "text/plain": [
       "['Tesouro Educa+',\n",
       " 'Tesouro IGPM+ com Juros Semestrais',\n",
       " 'Tesouro IPCA+',\n",
       " 'Tesouro IPCA+ com Juros Semestrais',\n",
       " 'Tesouro Prefixado',\n",
       " 'Tesouro Prefixado com Juros Semestrais',\n",
       " 'Tesouro Renda+ Aposentadoria Extra',\n",
       " 'Tesouro Selic']"
      ]
     },
     "execution_count": 6,
     "metadata": {},
     "output_type": "execute_result"
    }
   ],
   "source": [
    "# Quais os tipos de titulos.\n",
    "tipos_titulos = titulos.index.droplevel(level=1).droplevel(level=1).drop_duplicates().to_list()\n",
    "tipos_titulos"
   ]
  },
  {
   "cell_type": "markdown",
   "id": "1d0dbcbd",
   "metadata": {
    "id": "mXdhQv4tUYbv",
    "papermill": {
     "duration": 0.003067,
     "end_time": "2023-10-17T12:23:37.815608",
     "exception": false,
     "start_time": "2023-10-17T12:23:37.812541",
     "status": "completed"
    },
    "tags": []
   },
   "source": [
    "## Análise Preços Titulos Pré"
   ]
  },
  {
   "cell_type": "code",
   "execution_count": 7,
   "id": "d6387bfb",
   "metadata": {
    "execution": {
     "iopub.execute_input": "2023-10-17T12:23:37.824163Z",
     "iopub.status.busy": "2023-10-17T12:23:37.823577Z",
     "iopub.status.idle": "2023-10-17T12:23:37.841955Z",
     "shell.execute_reply": "2023-10-17T12:23:37.840861Z"
    },
    "id": "QZUtGEqXT_JK",
    "outputId": "50b4047a-951d-45f2-f102-a6921deae8ea",
    "papermill": {
     "duration": 0.025238,
     "end_time": "2023-10-17T12:23:37.844163",
     "exception": false,
     "start_time": "2023-10-17T12:23:37.818925",
     "status": "completed"
    },
    "tags": []
   },
   "outputs": [
    {
     "data": {
      "text/html": [
       "<div>\n",
       "<style scoped>\n",
       "    .dataframe tbody tr th:only-of-type {\n",
       "        vertical-align: middle;\n",
       "    }\n",
       "\n",
       "    .dataframe tbody tr th {\n",
       "        vertical-align: top;\n",
       "    }\n",
       "\n",
       "    .dataframe thead th {\n",
       "        text-align: right;\n",
       "    }\n",
       "</style>\n",
       "<table border=\"1\" class=\"dataframe\">\n",
       "  <thead>\n",
       "    <tr style=\"text-align: right;\">\n",
       "      <th></th>\n",
       "      <th>Taxa Compra Manha</th>\n",
       "      <th>Taxa Venda Manha</th>\n",
       "      <th>PU Compra Manha</th>\n",
       "      <th>PU Venda Manha</th>\n",
       "      <th>PU Base Manha</th>\n",
       "    </tr>\n",
       "    <tr>\n",
       "      <th>Data Base</th>\n",
       "      <th></th>\n",
       "      <th></th>\n",
       "      <th></th>\n",
       "      <th></th>\n",
       "      <th></th>\n",
       "    </tr>\n",
       "  </thead>\n",
       "  <tbody>\n",
       "    <tr>\n",
       "      <th>2018-02-07</th>\n",
       "      <td>9.77</td>\n",
       "      <td>9.89</td>\n",
       "      <td>526.93</td>\n",
       "      <td>522.99</td>\n",
       "      <td>522.79</td>\n",
       "    </tr>\n",
       "    <tr>\n",
       "      <th>2018-02-08</th>\n",
       "      <td>9.80</td>\n",
       "      <td>9.92</td>\n",
       "      <td>526.13</td>\n",
       "      <td>522.20</td>\n",
       "      <td>522.01</td>\n",
       "    </tr>\n",
       "    <tr>\n",
       "      <th>2018-02-09</th>\n",
       "      <td>9.86</td>\n",
       "      <td>9.98</td>\n",
       "      <td>524.36</td>\n",
       "      <td>520.44</td>\n",
       "      <td>520.25</td>\n",
       "    </tr>\n",
       "    <tr>\n",
       "      <th>2018-02-14</th>\n",
       "      <td>9.86</td>\n",
       "      <td>9.98</td>\n",
       "      <td>524.55</td>\n",
       "      <td>520.64</td>\n",
       "      <td>520.44</td>\n",
       "    </tr>\n",
       "    <tr>\n",
       "      <th>2018-02-15</th>\n",
       "      <td>9.86</td>\n",
       "      <td>9.98</td>\n",
       "      <td>524.75</td>\n",
       "      <td>520.84</td>\n",
       "      <td>520.64</td>\n",
       "    </tr>\n",
       "    <tr>\n",
       "      <th>...</th>\n",
       "      <td>...</td>\n",
       "      <td>...</td>\n",
       "      <td>...</td>\n",
       "      <td>...</td>\n",
       "      <td>...</td>\n",
       "    </tr>\n",
       "    <tr>\n",
       "      <th>2023-10-09</th>\n",
       "      <td>10.91</td>\n",
       "      <td>11.03</td>\n",
       "      <td>880.75</td>\n",
       "      <td>879.22</td>\n",
       "      <td>879.22</td>\n",
       "    </tr>\n",
       "    <tr>\n",
       "      <th>2023-10-10</th>\n",
       "      <td>10.77</td>\n",
       "      <td>10.89</td>\n",
       "      <td>882.48</td>\n",
       "      <td>880.95</td>\n",
       "      <td>880.95</td>\n",
       "    </tr>\n",
       "    <tr>\n",
       "      <th>2023-10-11</th>\n",
       "      <td>10.65</td>\n",
       "      <td>10.77</td>\n",
       "      <td>884.00</td>\n",
       "      <td>882.48</td>\n",
       "      <td>882.48</td>\n",
       "    </tr>\n",
       "    <tr>\n",
       "      <th>2023-10-13</th>\n",
       "      <td>10.86</td>\n",
       "      <td>10.98</td>\n",
       "      <td>882.32</td>\n",
       "      <td>880.80</td>\n",
       "      <td>880.80</td>\n",
       "    </tr>\n",
       "    <tr>\n",
       "      <th>2023-10-16</th>\n",
       "      <td>10.94</td>\n",
       "      <td>11.06</td>\n",
       "      <td>881.91</td>\n",
       "      <td>880.39</td>\n",
       "      <td>880.39</td>\n",
       "    </tr>\n",
       "  </tbody>\n",
       "</table>\n",
       "<p>1416 rows × 5 columns</p>\n",
       "</div>"
      ],
      "text/plain": [
       "            Taxa Compra Manha  Taxa Venda Manha  PU Compra Manha  \\\n",
       "Data Base                                                          \n",
       "2018-02-07               9.77              9.89           526.93   \n",
       "2018-02-08               9.80              9.92           526.13   \n",
       "2018-02-09               9.86              9.98           524.36   \n",
       "2018-02-14               9.86              9.98           524.55   \n",
       "2018-02-15               9.86              9.98           524.75   \n",
       "...                       ...               ...              ...   \n",
       "2023-10-09              10.91             11.03           880.75   \n",
       "2023-10-10              10.77             10.89           882.48   \n",
       "2023-10-11              10.65             10.77           884.00   \n",
       "2023-10-13              10.86             10.98           882.32   \n",
       "2023-10-16              10.94             11.06           881.91   \n",
       "\n",
       "            PU Venda Manha  PU Base Manha  \n",
       "Data Base                                  \n",
       "2018-02-07          522.99         522.79  \n",
       "2018-02-08          522.20         522.01  \n",
       "2018-02-09          520.44         520.25  \n",
       "2018-02-14          520.64         520.44  \n",
       "2018-02-15          520.84         520.64  \n",
       "...                    ...            ...  \n",
       "2023-10-09          879.22         879.22  \n",
       "2023-10-10          880.95         880.95  \n",
       "2023-10-11          882.48         882.48  \n",
       "2023-10-13          880.80         880.80  \n",
       "2023-10-16          880.39         880.39  \n",
       "\n",
       "[1416 rows x 5 columns]"
      ]
     },
     "execution_count": 7,
     "metadata": {},
     "output_type": "execute_result"
    }
   ],
   "source": [
    "# Extraindo Preços dos Titulos Pré.\n",
    "pre2025 = titulos.loc[('Tesouro Prefixado', '2025-01-01')]\n",
    "pre2025"
   ]
  },
  {
   "cell_type": "code",
   "execution_count": 8,
   "id": "211bd203",
   "metadata": {
    "execution": {
     "iopub.execute_input": "2023-10-17T12:23:37.853415Z",
     "iopub.status.busy": "2023-10-17T12:23:37.853026Z",
     "iopub.status.idle": "2023-10-17T12:23:37.874146Z",
     "shell.execute_reply": "2023-10-17T12:23:37.873118Z"
    },
    "id": "FBmXgD5cU3S0",
    "outputId": "8d4df8c0-bcda-473d-f265-7d799696f954",
    "papermill": {
     "duration": 0.028305,
     "end_time": "2023-10-17T12:23:37.876300",
     "exception": false,
     "start_time": "2023-10-17T12:23:37.847995",
     "status": "completed"
    },
    "tags": []
   },
   "outputs": [
    {
     "data": {
      "text/html": [
       "<div>\n",
       "<style scoped>\n",
       "    .dataframe tbody tr th:only-of-type {\n",
       "        vertical-align: middle;\n",
       "    }\n",
       "\n",
       "    .dataframe tbody tr th {\n",
       "        vertical-align: top;\n",
       "    }\n",
       "\n",
       "    .dataframe thead th {\n",
       "        text-align: right;\n",
       "    }\n",
       "</style>\n",
       "<table border=\"1\" class=\"dataframe\">\n",
       "  <thead>\n",
       "    <tr style=\"text-align: right;\">\n",
       "      <th></th>\n",
       "      <th>count</th>\n",
       "      <th>mean</th>\n",
       "      <th>std</th>\n",
       "      <th>min</th>\n",
       "      <th>25%</th>\n",
       "      <th>50%</th>\n",
       "      <th>75%</th>\n",
       "      <th>max</th>\n",
       "    </tr>\n",
       "  </thead>\n",
       "  <tbody>\n",
       "    <tr>\n",
       "      <th>Taxa Compra Manha</th>\n",
       "      <td>1416.0</td>\n",
       "      <td>9.438602</td>\n",
       "      <td>2.346074</td>\n",
       "      <td>5.34</td>\n",
       "      <td>6.9600</td>\n",
       "      <td>9.61</td>\n",
       "      <td>11.6225</td>\n",
       "      <td>13.91</td>\n",
       "    </tr>\n",
       "    <tr>\n",
       "      <th>PU Compra Manha</th>\n",
       "      <td>1416.0</td>\n",
       "      <td>714.133242</td>\n",
       "      <td>98.072809</td>\n",
       "      <td>474.26</td>\n",
       "      <td>688.2375</td>\n",
       "      <td>738.67</td>\n",
       "      <td>772.8300</td>\n",
       "      <td>884.00</td>\n",
       "    </tr>\n",
       "  </tbody>\n",
       "</table>\n",
       "</div>"
      ],
      "text/plain": [
       "                    count        mean        std     min       25%     50%  \\\n",
       "Taxa Compra Manha  1416.0    9.438602   2.346074    5.34    6.9600    9.61   \n",
       "PU Compra Manha    1416.0  714.133242  98.072809  474.26  688.2375  738.67   \n",
       "\n",
       "                        75%     max  \n",
       "Taxa Compra Manha   11.6225   13.91  \n",
       "PU Compra Manha    772.8300  884.00  "
      ]
     },
     "execution_count": 8,
     "metadata": {},
     "output_type": "execute_result"
    }
   ],
   "source": [
    "# Medidas Resumo.\n",
    "pre2025[['Taxa Compra Manha','PU Compra Manha']].describe().T"
   ]
  },
  {
   "cell_type": "code",
   "execution_count": 9,
   "id": "07d73f8b",
   "metadata": {
    "execution": {
     "iopub.execute_input": "2023-10-17T12:23:37.886506Z",
     "iopub.status.busy": "2023-10-17T12:23:37.885605Z",
     "iopub.status.idle": "2023-10-17T12:23:38.374044Z",
     "shell.execute_reply": "2023-10-17T12:23:38.373203Z"
    },
    "id": "AYenRx-BVNTV",
    "outputId": "283dbfac-3e1d-4e60-eb08-7e91da93a8ed",
    "papermill": {
     "duration": 0.495556,
     "end_time": "2023-10-17T12:23:38.376068",
     "exception": false,
     "start_time": "2023-10-17T12:23:37.880512",
     "status": "completed"
    },
    "tags": []
   },
   "outputs": [
    {
     "data": {
      "image/png": "[encoded data removed]",
      "text/plain": [
       "<Figure size 640x440 with 1 Axes>"
      ]
     },
     "metadata": {},
     "output_type": "display_data"
    }
   ],
   "source": [
    "# Visualização gráfica das séries.\n",
    "plt.style.use('seaborn-paper')\n",
    "(pre2025['Taxa Compra Manha'] / pre2025['Taxa Compra Manha'].iloc[0]).plot()\n",
    "(pre2025['PU Compra Manha'] / pre2025['PU Compra Manha'].iloc[0]).plot()\n",
    "plt.legend(loc='best')\n",
    "plt.title(\"Análise Titulos\")\n",
    "plt.xlabel('Date')\n",
    "plt.ylabel('Análise Titulos')\n",
    "plt.tight_layout()\n",
    "plt.show()"
   ]
  }
 ],
 "metadata": {
  "kernelspec": {
   "display_name": "Python 3",
   "language": "python",
   "name": "python3"
  },
  "language_info": {
   "codemirror_mode": {
    "name": "ipython",
    "version": 3
   },
   "file_extension": ".py",
   "mimetype": "text/x-python",
   "name": "python",
   "nbconvert_exporter": "python",
   "pygments_lexer": "ipython3",
   "version": "3.10.12"
  },
  "papermill": {
   "default_parameters": {},
   "duration": 18.599731,
   "end_time": "2023-10-17T12:23:38.901611",
   "environment_variables": {},
   "exception": null,
   "input_path": "__notebook__.ipynb",
   "output_path": "__notebook__.ipynb",
   "parameters": {},
   "start_time": "2023-10-17T12:23:20.301880",
   "version": "2.4.0"
  }
 },
 "nbformat": 4,
 "nbformat_minor": 5
}
